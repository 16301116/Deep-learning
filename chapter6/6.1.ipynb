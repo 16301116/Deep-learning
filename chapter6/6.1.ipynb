{
 "cells": [
  {
   "cell_type": "code",
   "execution_count": 2,
   "metadata": {},
   "outputs": [
    {
     "name": "stdout",
     "output_type": "stream",
     "text": [
      "tensor([[-0.0189, -0.0727,  0.4237, -0.1973,  0.0829],\n",
      "        [-0.2256,  0.3480,  0.2614,  0.3671, -0.1297]],\n",
      "       grad_fn=<AddmmBackward0>)\n",
      "tensor([[-0.0189, -0.0727,  0.4237, -0.1973,  0.0829],\n",
      "        [-0.2256,  0.3480,  0.2614,  0.3671, -0.1297]],\n",
      "       grad_fn=<ReshapeAliasBackward0>)\n",
      "tensor([[False, False, False,  True,  True],\n",
      "        [False,  True,  True, False, False]])\n"
     ]
    }
   ],
   "source": [
    "import torch\n",
    "import torch.nn as nn\n",
    "\n",
    "\n",
    "class MyNet1(nn.Module):\n",
    "    def __init__(self, linear1, linear2):\n",
    "        super(MyNet1, self).__init__()\n",
    "        self.linear1 = linear1\n",
    "        self.linear2 = linear2\n",
    "\n",
    "    def forward(self, X):\n",
    "        return self.linear2(self.linear1(nn.Flatten()(X)))\n",
    "\n",
    "\n",
    "class MyNet2(nn.Module):\n",
    "    def __init__(self, linear, conv2d):\n",
    "        super(MyNet2, self).__init__()\n",
    "        self.linear = linear\n",
    "        self.conv2d = conv2d\n",
    "\n",
    "    def forward(self, X):\n",
    "        X = self.linear(nn.Flatten()(X))\n",
    "        X = X.reshape(X.shape[0], -1, 1, 1)\n",
    "        X = nn.Flatten()(self.conv2d(X))\n",
    "        return X\n",
    "\n",
    "\n",
    "linear1 = nn.Linear(15, 10)\n",
    "linear2 = nn.Linear(10, 5)\n",
    "conv2d = nn.Conv2d(10, 5, 1)\n",
    "linear2.weight = nn.Parameter(conv2d.weight.reshape(linear2.weight.shape))\n",
    "linear2.bias = nn.Parameter(conv2d.bias)\n",
    "net1 = MyNet1(linear1, linear2)\n",
    "net2 = MyNet2(linear1, conv2d)\n",
    "X = torch.randn(2, 3, 5)\n",
    "# 两个结果实际存在一定的误差，直接print(net1(X) == net2(X))得到的结果不全是True\n",
    "print(net1(X))\n",
    "print(net2(X))\n",
    "print(net1(X) == net2(X))"
   ]
  }
 ],
 "metadata": {
  "kernelspec": {
   "display_name": "d2l",
   "language": "python",
   "name": "python3"
  },
  "language_info": {
   "codemirror_mode": {
    "name": "ipython",
    "version": 3
   },
   "file_extension": ".py",
   "mimetype": "text/x-python",
   "name": "python",
   "nbconvert_exporter": "python",
   "pygments_lexer": "ipython3",
   "version": "3.8.15 (default, Nov 24 2022, 14:38:14) [MSC v.1916 64 bit (AMD64)]"
  },
  "orig_nbformat": 4,
  "vscode": {
   "interpreter": {
    "hash": "2a4e49b5d8bb46cc461e2fabb002c776bb823dbc9cc36f7deaf05c0ed6d5ffb6"
   }
  }
 },
 "nbformat": 4,
 "nbformat_minor": 2
}
