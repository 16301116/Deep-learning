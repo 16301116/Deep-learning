{
 "cells": [
  {
   "cell_type": "code",
   "execution_count": 1,
   "metadata": {},
   "outputs": [],
   "source": [
    "import torch\n",
    "import torch.nn.functional as F\n",
    "from torch import nn\n",
    "\n",
    "\n",
    "class CenteredLayer(nn.Module):\n",
    "    def __init__(self):\n",
    "        super().__init__()\n",
    "\n",
    "    def forward(self, X):\n",
    "        return X - X.mean()"
   ]
  },
  {
   "cell_type": "code",
   "execution_count": 2,
   "metadata": {},
   "outputs": [
    {
     "data": {
      "text/plain": [
       "tensor([-2., -1.,  0.,  1.,  2.])"
      ]
     },
     "execution_count": 2,
     "metadata": {},
     "output_type": "execute_result"
    }
   ],
   "source": [
    "layer = CenteredLayer()\n",
    "layer(torch.FloatTensor([1, 2, 3, 4, 5]))"
   ]
  },
  {
   "cell_type": "code",
   "execution_count": 3,
   "metadata": {},
   "outputs": [],
   "source": [
    "net = nn.Sequential(nn.Linear(8, 128), CenteredLayer())"
   ]
  },
  {
   "cell_type": "code",
   "execution_count": 4,
   "metadata": {},
   "outputs": [
    {
     "data": {
      "text/plain": [
       "tensor(1.8626e-09, grad_fn=<MeanBackward0>)"
      ]
     },
     "execution_count": 4,
     "metadata": {},
     "output_type": "execute_result"
    }
   ],
   "source": [
    "Y = net(torch.rand(4, 8))\n",
    "Y.mean()"
   ]
  },
  {
   "cell_type": "code",
   "execution_count": 5,
   "metadata": {},
   "outputs": [],
   "source": [
    "class MyLinear(nn.Module):\n",
    "    def __init__(self, in_units, units):\n",
    "        super().__init__()\n",
    "        self.weight = nn.Parameter(torch.randn(in_units, units))\n",
    "        self.bias = nn.Parameter(torch.randn(units,))\n",
    "    def forward(self, X):\n",
    "        linear = torch.matmul(X, self.weight.data) + self.bias.data\n",
    "        return F.relu(linear)"
   ]
  },
  {
   "cell_type": "code",
   "execution_count": 6,
   "metadata": {},
   "outputs": [
    {
     "data": {
      "text/plain": [
       "Parameter containing:\n",
       "tensor([[ 0.0668,  0.5748, -1.2197],\n",
       "        [-0.3411,  0.8489, -0.1694],\n",
       "        [-0.7381, -0.1566,  0.2411],\n",
       "        [ 1.7724, -0.7835,  0.4507],\n",
       "        [-1.6869, -0.0959, -0.6579]], requires_grad=True)"
      ]
     },
     "execution_count": 6,
     "metadata": {},
     "output_type": "execute_result"
    }
   ],
   "source": [
    "linear = MyLinear(5, 3)\n",
    "linear.weight"
   ]
  },
  {
   "cell_type": "code",
   "execution_count": 7,
   "metadata": {},
   "outputs": [
    {
     "data": {
      "text/plain": [
       "tensor([[0.0000, 1.9488, 0.0000],\n",
       "        [1.6845, 1.1124, 0.0000]])"
      ]
     },
     "execution_count": 7,
     "metadata": {},
     "output_type": "execute_result"
    }
   ],
   "source": [
    "linear(torch.rand(2, 5))"
   ]
  },
  {
   "cell_type": "code",
   "execution_count": 8,
   "metadata": {},
   "outputs": [
    {
     "data": {
      "text/plain": [
       "tensor([[3.7027],\n",
       "        [1.9504]])"
      ]
     },
     "execution_count": 8,
     "metadata": {},
     "output_type": "execute_result"
    }
   ],
   "source": [
    "net = nn.Sequential(MyLinear(64, 8), MyLinear(8, 1))\n",
    "net(torch.rand(2, 64))"
   ]
  },
  {
   "cell_type": "code",
   "execution_count": 15,
   "metadata": {},
   "outputs": [
    {
     "ename": "TypeError",
     "evalue": "__init__() missing 1 required positional argument: 'k'",
     "output_type": "error",
     "traceback": [
      "\u001b[1;31m---------------------------------------------------------------------------\u001b[0m",
      "\u001b[1;31mTypeError\u001b[0m                                 Traceback (most recent call last)",
      "Cell \u001b[1;32mIn[15], line 16\u001b[0m\n\u001b[0;32m     12\u001b[0m             z \u001b[39m=\u001b[39m torch\u001b[39m.\u001b[39mcat([z,tmp_z],\u001b[39m0\u001b[39m)\n\u001b[0;32m     13\u001b[0m         \u001b[39mreturn\u001b[39;00m z[\u001b[39m1\u001b[39m:]\n\u001b[1;32m---> 16\u001b[0m net \u001b[39m=\u001b[39m DRLayer(\u001b[39m5\u001b[39;49m,\u001b[39m2\u001b[39;49m)\n\u001b[0;32m     17\u001b[0m \u001b[39mprint\u001b[39m(net(torch\u001b[39m.\u001b[39mrand(\u001b[39m4\u001b[39m,\u001b[39m5\u001b[39m))\u001b[39m.\u001b[39mshape)\n",
      "\u001b[1;31mTypeError\u001b[0m: __init__() missing 1 required positional argument: 'k'"
     ]
    }
   ],
   "source": [
    "# class DRLayer(nn.Module):\n",
    "#     def __init__(self, i, j, k):\n",
    "#         super().__init__()\n",
    "#         self.k = k\n",
    "#         self.weight = nn.Parameter(torch.randn((k,i,j)))\n",
    "\n",
    "#     def forward(self,X):\n",
    "#         z = torch.ones((1,self.k))\n",
    "#         for i in range(X.shape[0]):\n",
    "#             y = torch.matmul(X[i,:].reshape(-1,1),X[i,:].reshape(1,-1))\n",
    "#             tmp_z = torch.matmul(self.weight,y).sum(axis=[1,2]).reshape(1,-1)\n",
    "#             z = torch.cat([z,tmp_z],0)\n",
    "#         return z[1:]\n",
    "\n",
    "\n",
    "# net = DRLayer(5,2)\n",
    "# print(net(torch.rand(4,5)).shape)"
   ]
  },
  {
   "cell_type": "code",
   "execution_count": 16,
   "metadata": {},
   "outputs": [
    {
     "name": "stdout",
     "output_type": "stream",
     "text": [
      "tensor([[ 1.3686+0.0000j, -0.5299+0.0503j],\n",
      "        [ 1.4565+0.0000j, -0.4599+0.4170j]])\n"
     ]
    }
   ],
   "source": [
    "class HalfFFT(nn.Module):\n",
    "    def __init__(self):\n",
    "        super(HalfFFT, self).__init__()\n",
    "\n",
    "    def forward(self, X):\n",
    "        \"\"\"\n",
    "        Compute FFT and return half of it\n",
    "        :param X: size = B*L\n",
    "        :return: size = B*round(L/2)\n",
    "        \"\"\"\n",
    "        half_len = round(X.shape[1]/2)\n",
    "        X_f = torch.fft.fft(X)\n",
    "        return X_f[:, :half_len]\n",
    "\n",
    "\n",
    "myNet2 = HalfFFT()\n",
    "print(myNet2(torch.rand(2, 3)))"
   ]
  }
 ],
 "metadata": {
  "kernelspec": {
   "display_name": "d2l",
   "language": "python",
   "name": "python3"
  },
  "language_info": {
   "codemirror_mode": {
    "name": "ipython",
    "version": 3
   },
   "file_extension": ".py",
   "mimetype": "text/x-python",
   "name": "python",
   "nbconvert_exporter": "python",
   "pygments_lexer": "ipython3",
   "version": "3.8.15 (default, Nov 24 2022, 14:38:14) [MSC v.1916 64 bit (AMD64)]"
  },
  "orig_nbformat": 4,
  "vscode": {
   "interpreter": {
    "hash": "2a4e49b5d8bb46cc461e2fabb002c776bb823dbc9cc36f7deaf05c0ed6d5ffb6"
   }
  }
 },
 "nbformat": 4,
 "nbformat_minor": 2
}
