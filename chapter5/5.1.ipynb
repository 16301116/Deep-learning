{
 "cells": [
  {
   "cell_type": "code",
   "execution_count": 17,
   "metadata": {},
   "outputs": [
    {
     "data": {
      "text/plain": [
       "tensor([[-0.1007,  0.0785,  0.2078,  0.0580,  0.1551, -0.0496, -0.2908, -0.1656,\n",
       "          0.0990,  0.1177],\n",
       "        [-0.0570,  0.0680,  0.2215, -0.2046,  0.1640, -0.0314, -0.1577, -0.1459,\n",
       "         -0.0745,  0.1210]], grad_fn=<AddmmBackward0>)"
      ]
     },
     "execution_count": 17,
     "metadata": {},
     "output_type": "execute_result"
    }
   ],
   "source": [
    "import torch\n",
    "from torch import nn\n",
    "from torch.nn import functional as F\n",
    "\n",
    "net = nn.Sequential(nn.Linear(20, 256), nn.ReLU(), nn.Linear(256, 10))\n",
    "\n",
    "X = torch.rand(2, 20)\n",
    "net(X)"
   ]
  },
  {
   "cell_type": "code",
   "execution_count": 18,
   "metadata": {},
   "outputs": [],
   "source": [
    "class MLP(nn.Module):\n",
    "    # 用模型参数声明层。这里，我们声明两个全连接的层\n",
    "    def __init__(self):\n",
    "        # 调用MLP的父类Module的构造函数来执行必要的初始化。\n",
    "        # 这样，在类实例化时也可以指定其他函数参数，例如模型参数params（稍后将介绍）\n",
    "        super().__init__()\n",
    "        self.hidden = nn.Linear(20, 256)  # 隐藏层\n",
    "        self.out = nn.Linear(256, 10)  # 输出层\n",
    "\n",
    "    # 定义模型的前向传播，即如何根据输入X返回所需的模型输出\n",
    "    def forward(self, X):\n",
    "        # 注意，这里我们使用ReLU的函数版本，其在nn.functional模块中定义。\n",
    "        return self.out(F.relu(self.hidden(X)))"
   ]
  },
  {
   "cell_type": "code",
   "execution_count": 19,
   "metadata": {},
   "outputs": [
    {
     "data": {
      "text/plain": [
       "tensor([[ 3.3395e-02,  1.6892e-01,  9.0341e-02,  5.2319e-02,  8.0197e-02,\n",
       "         -4.0549e-01,  1.8407e-01,  4.7117e-01, -3.0319e-04,  2.5437e-01],\n",
       "        [-1.8806e-02,  1.4333e-02,  9.0581e-03, -4.2025e-02,  6.2694e-02,\n",
       "         -2.2473e-01,  6.4430e-02,  1.5367e-01,  8.3814e-02,  6.9663e-02]],\n",
       "       grad_fn=<AddmmBackward0>)"
      ]
     },
     "execution_count": 19,
     "metadata": {},
     "output_type": "execute_result"
    }
   ],
   "source": [
    "net = MLP()\n",
    "net(X)"
   ]
  },
  {
   "cell_type": "code",
   "execution_count": 20,
   "metadata": {},
   "outputs": [],
   "source": [
    "class MySequential(nn.Module):\n",
    "    def __init__(self, *args):\n",
    "        super().__init__()\n",
    "        for idx, module in enumerate(args):\n",
    "            # 这里，module是Module子类的一个实例。我们把它保存在'Module'类的成员\n",
    "            # 变量_modules中。_module的类型是OrderedDict\n",
    "            self._modules[str(idx)] = module\n",
    "\n",
    "    def forward(self, X):\n",
    "        # OrderedDict保证了按照成员添加的顺序遍历它们\n",
    "        for block in self._modules.values():\n",
    "            X = block(X)\n",
    "        return X"
   ]
  },
  {
   "cell_type": "code",
   "execution_count": 21,
   "metadata": {},
   "outputs": [
    {
     "data": {
      "text/plain": [
       "tensor([[-0.1411, -0.1985, -0.2181,  0.1370, -0.2784, -0.0832,  0.2713,  0.0336,\n",
       "          0.3427, -0.3050],\n",
       "        [-0.0890, -0.2700, -0.0279, -0.1409, -0.0077, -0.0865,  0.0713,  0.1272,\n",
       "          0.0978, -0.1784]], grad_fn=<AddmmBackward0>)"
      ]
     },
     "execution_count": 21,
     "metadata": {},
     "output_type": "execute_result"
    }
   ],
   "source": [
    "net = MySequential(nn.Linear(20, 256), nn.ReLU(), nn.Linear(256, 10))\n",
    "net(X)"
   ]
  },
  {
   "cell_type": "code",
   "execution_count": 22,
   "metadata": {},
   "outputs": [],
   "source": [
    "class FixedHiddenMLP(nn.Module):\n",
    "    def __init__(self):\n",
    "        super().__init__()\n",
    "        # 不计算梯度的随机权重参数。因此其在训练期间保持不变\n",
    "        self.rand_weight = torch.rand((20, 20), requires_grad=False)\n",
    "        self.linear = nn.Linear(20, 20)\n",
    "\n",
    "    def forward(self, X):\n",
    "        X = self.linear(X)\n",
    "        # 使用创建的常量参数以及relu和mm函数\n",
    "        X = F.relu(torch.mm(X, self.rand_weight) + 1)\n",
    "        # 复用全连接层。这相当于两个全连接层共享参数\n",
    "        X = self.linear(X)\n",
    "        # 控制流\n",
    "        while X.abs().sum() > 1:\n",
    "            X /= 2\n",
    "        return X.sum()"
   ]
  },
  {
   "cell_type": "code",
   "execution_count": 23,
   "metadata": {},
   "outputs": [
    {
     "data": {
      "text/plain": [
       "tensor(-0.0738, grad_fn=<SumBackward0>)"
      ]
     },
     "execution_count": 23,
     "metadata": {},
     "output_type": "execute_result"
    }
   ],
   "source": [
    "net = FixedHiddenMLP()\n",
    "net(X)"
   ]
  },
  {
   "cell_type": "code",
   "execution_count": 24,
   "metadata": {},
   "outputs": [
    {
     "data": {
      "text/plain": [
       "tensor(0.2845, grad_fn=<SumBackward0>)"
      ]
     },
     "execution_count": 24,
     "metadata": {},
     "output_type": "execute_result"
    }
   ],
   "source": [
    "class NestMLP(nn.Module):\n",
    "    def __init__(self):\n",
    "        super().__init__()\n",
    "        self.net = nn.Sequential(nn.Linear(20, 64), nn.ReLU(),\n",
    "                                 nn.Linear(64, 32), nn.ReLU())\n",
    "        self.linear = nn.Linear(32, 16)\n",
    "\n",
    "    def forward(self, X):\n",
    "        return self.linear(self.net(X))\n",
    "\n",
    "chimera = nn.Sequential(NestMLP(), nn.Linear(16, 20), FixedHiddenMLP())\n",
    "chimera(X)"
   ]
  },
  {
   "attachments": {},
   "cell_type": "markdown",
   "metadata": {},
   "source": [
    "第一题"
   ]
  },
  {
   "cell_type": "code",
   "execution_count": 25,
   "metadata": {},
   "outputs": [],
   "source": [
    "class MySequential2(nn.Module):\n",
    "    \"\"\"顺序块\"\"\"\n",
    "    # 使用list\n",
    "    def __init__(self, *args):\n",
    "        super(MySequential2, self).__init__()\n",
    "        self.sequential = []\n",
    "        for module in args:\n",
    "            self.sequential.append(module)\n",
    "\n",
    "    def forward(self, X):\n",
    "        # OrderedDict保证了按照成员添加的顺序遍历它们\n",
    "        for module in self.sequential:\n",
    "            X = module(X)\n",
    "        return X"
   ]
  },
  {
   "cell_type": "code",
   "execution_count": 27,
   "metadata": {},
   "outputs": [
    {
     "name": "stdout",
     "output_type": "stream",
     "text": [
      "tensor([[ 0.2199, -0.1385,  0.0916,  0.1277, -0.5018,  0.0185, -0.0627, -0.2026,\n",
      "          0.0553, -0.0475],\n",
      "        [ 0.0114, -0.0190, -0.0807,  0.0191, -0.2679, -0.0304, -0.0155, -0.1750,\n",
      "         -0.1130, -0.1277]], grad_fn=<AddmmBackward0>)\n",
      "tensor([[ 0.2199, -0.1385,  0.0916,  0.1277, -0.5018,  0.0185, -0.0627, -0.2026,\n",
      "          0.0553, -0.0475],\n",
      "        [ 0.0114, -0.0190, -0.0807,  0.0191, -0.2679, -0.0304, -0.0155, -0.1750,\n",
      "         -0.1130, -0.1277]], grad_fn=<AddmmBackward0>)\n"
     ]
    }
   ],
   "source": [
    "linear1 = nn.Linear(20, 256)\n",
    "relu = nn.ReLU()\n",
    "linear2 = nn.Linear(256, 10)\n",
    "net = MySequential(linear1, relu, linear2)\n",
    "net2 = MySequential2(linear1, relu, linear2)\n",
    "# 结果一样\n",
    "print(net(X))\n",
    "print(net2(X))\n",
    "# 使用_modules方便打印net的网络结构和参数，而list则无法做到\n",
    "# print(net, '\\n', net.state_dict())\n",
    "# print(net2, '\\n', net2.state_dict())"
   ]
  },
  {
   "attachments": {},
   "cell_type": "markdown",
   "metadata": {},
   "source": [
    "第二题"
   ]
  },
  {
   "cell_type": "code",
   "execution_count": 28,
   "metadata": {},
   "outputs": [
    {
     "name": "stdout",
     "output_type": "stream",
     "text": [
      "torch.Size([2, 5])\n"
     ]
    }
   ],
   "source": [
    "class MyBlock(nn.Module):\n",
    "    def __init__(self, block1, block2):\n",
    "        super(MyBlock, self).__init__()\n",
    "        self.block1 = block1\n",
    "        self.block2 = block2\n",
    "\n",
    "    def forward(self, X):\n",
    "        X = torch.cat((self.block1(X), self.block2(X)), 1)\n",
    "        return X\n",
    "\n",
    "\n",
    "block = MyBlock(nn.Linear(20, 5), nn.Linear(20, 5))\n",
    "net = nn.Sequential(block, nn.ReLU(), nn.Linear(10, 5))\n",
    "print(net(X).shape)"
   ]
  },
  {
   "attachments": {},
   "cell_type": "markdown",
   "metadata": {},
   "source": [
    "第三题"
   ]
  },
  {
   "cell_type": "code",
   "execution_count": 30,
   "metadata": {},
   "outputs": [
    {
     "name": "stdout",
     "output_type": "stream",
     "text": [
      "torch.Size([2, 768]) tensor([[ 0.1617, -0.1429, -0.4872,  ...,  0.3070, -0.2481,  0.0582],\n",
      "        [-0.2420, -0.2882, -0.4634,  ...,  0.3515, -0.1927,  0.2556]],\n",
      "       grad_fn=<CatBackward0>)\n",
      "Factory(\n",
      "  (0): Linear(in_features=20, out_features=256, bias=True)\n",
      "  (1): Linear(in_features=20, out_features=256, bias=True)\n",
      "  (2): Linear(in_features=20, out_features=256, bias=True)\n",
      ")\n"
     ]
    }
   ],
   "source": [
    "class Factory(nn.Module):\n",
    "    def __init__(self, net, ins, outs, k):\n",
    "        super().__init__()\n",
    "        for idx in range(k):\n",
    "            self._modules[str(idx)] = net(ins, outs)\n",
    "\n",
    "    def forward(self, X):\n",
    "        res = list()\n",
    "        for idx in range(len(self._modules)):\n",
    "            res.append(self._modules[str(idx)](X))\n",
    "        return torch.concat(res, 1)\n",
    "\n",
    "X = torch.rand(2, 20)\n",
    "f = Factory(nn.Linear, 20, 256, 3)\n",
    "print(f(X).shape, f(X))\n",
    "print(f)"
   ]
  }
 ],
 "metadata": {
  "kernelspec": {
   "display_name": "d2l",
   "language": "python",
   "name": "python3"
  },
  "language_info": {
   "codemirror_mode": {
    "name": "ipython",
    "version": 3
   },
   "file_extension": ".py",
   "mimetype": "text/x-python",
   "name": "python",
   "nbconvert_exporter": "python",
   "pygments_lexer": "ipython3",
   "version": "3.8.15 (default, Nov 24 2022, 14:38:14) [MSC v.1916 64 bit (AMD64)]"
  },
  "orig_nbformat": 4,
  "vscode": {
   "interpreter": {
    "hash": "2a4e49b5d8bb46cc461e2fabb002c776bb823dbc9cc36f7deaf05c0ed6d5ffb6"
   }
  }
 },
 "nbformat": 4,
 "nbformat_minor": 2
}
